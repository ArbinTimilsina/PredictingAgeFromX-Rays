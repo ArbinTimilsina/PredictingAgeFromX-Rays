{
  "cells": [
    {
      "metadata": {
        "_cell_guid": "929690ea-c756-459b-8445-eab180b1bd55",
        "_uuid": "2056f822c8514fd29db2073ab0643e8adeb5c098"
      },
      "cell_type": "markdown",
      "source": "# Overview\nHere we just load and organize the data to get an idea of what is inside and make it easier to build models out of"
    },
    {
      "metadata": {
        "_cell_guid": "c3cc4285-bfa4-4612-ac5f-13d10678c09a",
        "collapsed": true,
        "_uuid": "725d378daf5f836d4885d67240fc7955f113309d",
        "trusted": false
      },
      "cell_type": "code",
      "source": "import numpy as np # linear algebra\nimport pandas as pd # data processing, CSV file I/O (e.g. pd.read_csv)\nimport matplotlib.pyplot as plt # showing and rendering figures\n# io related\nfrom skimage.io import imread\nimport os\nfrom glob import glob\n# not needed in Kaggle, but required in Jupyter\n%matplotlib inline ",
      "execution_count": null,
      "outputs": []
    },
    {
      "metadata": {
        "_cell_guid": "a0e87892-6744-48f1-a62a-2d71aa946c1d",
        "_uuid": "f434a5f443d56c67acaa9551cff8117885a04110",
        "trusted": false,
        "collapsed": true
      },
      "cell_type": "code",
      "source": "base_bone_dir = os.path.join('..', 'input')\nage_df = pd.read_csv(os.path.join(base_bone_dir, 'boneage-training-dataset.csv'))\nage_df['path'] = age_df['id'].map(lambda x: os.path.join(base_bone_dir,\n                                                         'boneage-training-dataset', \n                                                         'boneage-training-dataset', \n                                                         '{}.png'.format(x)))\nage_df['exists'] = age_df['path'].map(os.path.exists)\nprint(age_df['exists'].sum(), 'images found of', age_df.shape[0], 'total')\nage_df['gender'] = age_df['male'].map(lambda x: 'male' if x else 'female')\nage_df.dropna(inplace = True)\nage_df.sample(3)",
      "execution_count": null,
      "outputs": []
    },
    {
      "metadata": {
        "_cell_guid": "6a78449a-c605-4b79-8dad-f95a0f961905",
        "_uuid": "f7f3af15bc01e18803d0fd8bd24e826ddd51daf9"
      },
      "cell_type": "markdown",
      "source": "# Examine the distribution of age and gender\nAge is shown in months"
    },
    {
      "metadata": {
        "_cell_guid": "0f8dd216-716c-4ecd-b688-b4e000827ed4",
        "_uuid": "6835293c775c54643ea09aceca199814b7517026",
        "trusted": false,
        "collapsed": true
      },
      "cell_type": "code",
      "source": "age_df[['boneage', 'male']].hist(figsize = (10, 5))",
      "execution_count": null,
      "outputs": []
    },
    {
      "metadata": {
        "_cell_guid": "6ad23a65-5d5a-41f9-9943-d57bff629c76",
        "_uuid": "51db9ffbb3897e28194cf59b02e56c1ce2a43b60"
      },
      "cell_type": "markdown",
      "source": "# Group Ages\nTo make the problem a simpler we can divide the data up into subgroups. Here we make 8 subgroups of age and show an example from both genders for each category to get a feeling for what is important and also the diversity in the data"
    },
    {
      "metadata": {
        "_cell_guid": "94adcd9a-5a89-4923-89d0-cd4cc0310f93",
        "_uuid": "a3fa2045036108b562074c362ac9fbfb79571114",
        "trusted": false,
        "collapsed": true
      },
      "cell_type": "code",
      "source": "age_groups = 8\nage_df['age_class'] = pd.qcut(age_df['boneage'], age_groups)\nage_overview_df = age_df.groupby(['age_class', \n                                  'gender']).apply(lambda x: x.sample(1)\n                                                             ).reset_index(drop = True\n                                                                          )\n",
      "execution_count": null,
      "outputs": []
    },
    {
      "metadata": {
        "_cell_guid": "33900654-ae48-47a9-b3c1-aff4148be631",
        "_uuid": "0d56ee6efe6ff7f0efafe4a2130c882b4ea46f74",
        "trusted": false,
        "collapsed": true
      },
      "cell_type": "code",
      "source": "fig, m_axs = plt.subplots( age_groups, 2, figsize = (12, 6*age_groups))\nfor c_ax, (_, c_row) in zip(m_axs.flatten(), \n                            age_overview_df.sort_values(['age_class', 'gender']).iterrows()):\n    c_ax.imshow(imread(c_row['path']),\n                cmap = 'viridis')\n    c_ax.axis('off')\n    c_ax.set_title('{boneage} months, {gender}'.format(**c_row))",
      "execution_count": null,
      "outputs": []
    },
    {
      "metadata": {
        "_cell_guid": "0cf36b12-ab3e-43d0-aa01-8175eee2d124",
        "collapsed": true,
        "_uuid": "ba60310460e0963965508cfe1c8e013b5e1f7e92",
        "trusted": false
      },
      "cell_type": "code",
      "source": "",
      "execution_count": null,
      "outputs": []
    }
  ],
  "metadata": {
    "kernelspec": {
      "display_name": "Python 3",
      "language": "python",
      "name": "python3"
    },
    "language_info": {
      "pygments_lexer": "ipython3",
      "codemirror_mode": {
        "name": "ipython",
        "version": 3
      },
      "name": "python",
      "version": "3.6.4",
      "file_extension": ".py",
      "nbconvert_exporter": "python",
      "mimetype": "text/x-python"
    }
  },
  "nbformat": 4,
  "nbformat_minor": 1
}